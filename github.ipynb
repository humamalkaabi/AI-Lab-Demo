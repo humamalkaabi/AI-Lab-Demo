{
  "nbformat": 4,
  "nbformat_minor": 0,
  "metadata": {
    "colab": {
      "provenance": [],
      "authorship_tag": "ABX9TyOtPT4ENPDtqtMlnma3jZNK",
      "include_colab_link": true
    },
    "kernelspec": {
      "name": "python3",
      "display_name": "Python 3"
    },
    "language_info": {
      "name": "python"
    }
  },
  "cells": [
    {
      "cell_type": "markdown",
      "metadata": {
        "id": "view-in-github",
        "colab_type": "text"
      },
      "source": [
        "<a href=\"https://colab.research.google.com/github/humamalkaabi/AI-Lab-Demo/blob/main/github.ipynb\" target=\"_parent\"><img src=\"https://colab.research.google.com/assets/colab-badge.svg\" alt=\"Open In Colab\"/></a>"
      ]
    },
    {
      "cell_type": "code",
      "execution_count": 1,
      "metadata": {
        "colab": {
          "base_uri": "https://localhost:8080/"
        },
        "id": "Woffn_ni5i3n",
        "outputId": "ac85f63f-6c72-4bab-e56f-b507606c9c44"
      },
      "outputs": [
        {
          "output_type": "stream",
          "name": "stdout",
          "text": [
            "Hello AI Researchers!\n"
          ]
        }
      ],
      "source": [
        "print(\"Hello AI Researchers!\")\n"
      ]
    },
    {
      "cell_type": "code",
      "source": [
        "print(\"This is version 2.\")"
      ],
      "metadata": {
        "colab": {
          "base_uri": "https://localhost:8080/"
        },
        "id": "J0JCDj_6Ln1J",
        "outputId": "01129b9c-37db-4464-e294-dd6da470cfeb"
      },
      "execution_count": 2,
      "outputs": [
        {
          "output_type": "stream",
          "name": "stdout",
          "text": [
            "This is version 2.\n"
          ]
        }
      ]
    }
  ]
}